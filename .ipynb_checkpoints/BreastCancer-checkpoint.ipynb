{
 "cells": [
  {
   "cell_type": "code",
   "execution_count": 1,
   "metadata": {},
   "outputs": [],
   "source": [
    "import pandas as pd \n",
    "import numpy as np\n",
    "import matplotlib.pyplot as plt\n",
    "import seaborn as sns\n",
    "sns.set()\n",
    "%matplotlib inline"
   ]
  },
  {
   "cell_type": "code",
   "execution_count": 2,
   "metadata": {},
   "outputs": [
    {
     "data": {
      "text/html": [
       "<div>\n",
       "<style scoped>\n",
       "    .dataframe tbody tr th:only-of-type {\n",
       "        vertical-align: middle;\n",
       "    }\n",
       "\n",
       "    .dataframe tbody tr th {\n",
       "        vertical-align: top;\n",
       "    }\n",
       "\n",
       "    .dataframe thead th {\n",
       "        text-align: right;\n",
       "    }\n",
       "</style>\n",
       "<table border=\"1\" class=\"dataframe\">\n",
       "  <thead>\n",
       "    <tr style=\"text-align: right;\">\n",
       "      <th></th>\n",
       "      <th>sample_code_number</th>\n",
       "      <th>clump_thickness</th>\n",
       "      <th>uniformity_of_cell_size</th>\n",
       "      <th>uniformity_of_cell_shape</th>\n",
       "      <th>marginal_adhesion</th>\n",
       "      <th>single_epithelial_cell_size</th>\n",
       "      <th>bare_nuclei</th>\n",
       "      <th>bland_chromatin</th>\n",
       "      <th>normal_nucleoli</th>\n",
       "      <th>mitosis</th>\n",
       "      <th>classes</th>\n",
       "    </tr>\n",
       "  </thead>\n",
       "  <tbody>\n",
       "    <tr>\n",
       "      <th>0</th>\n",
       "      <td>1002945</td>\n",
       "      <td>5</td>\n",
       "      <td>4</td>\n",
       "      <td>4</td>\n",
       "      <td>5</td>\n",
       "      <td>7</td>\n",
       "      <td>10</td>\n",
       "      <td>3</td>\n",
       "      <td>2</td>\n",
       "      <td>1</td>\n",
       "      <td>2</td>\n",
       "    </tr>\n",
       "    <tr>\n",
       "      <th>1</th>\n",
       "      <td>1015425</td>\n",
       "      <td>3</td>\n",
       "      <td>1</td>\n",
       "      <td>1</td>\n",
       "      <td>1</td>\n",
       "      <td>2</td>\n",
       "      <td>2</td>\n",
       "      <td>3</td>\n",
       "      <td>1</td>\n",
       "      <td>1</td>\n",
       "      <td>2</td>\n",
       "    </tr>\n",
       "    <tr>\n",
       "      <th>2</th>\n",
       "      <td>1016277</td>\n",
       "      <td>6</td>\n",
       "      <td>8</td>\n",
       "      <td>8</td>\n",
       "      <td>1</td>\n",
       "      <td>3</td>\n",
       "      <td>4</td>\n",
       "      <td>3</td>\n",
       "      <td>7</td>\n",
       "      <td>1</td>\n",
       "      <td>2</td>\n",
       "    </tr>\n",
       "    <tr>\n",
       "      <th>3</th>\n",
       "      <td>1017023</td>\n",
       "      <td>4</td>\n",
       "      <td>1</td>\n",
       "      <td>1</td>\n",
       "      <td>3</td>\n",
       "      <td>2</td>\n",
       "      <td>1</td>\n",
       "      <td>3</td>\n",
       "      <td>1</td>\n",
       "      <td>1</td>\n",
       "      <td>2</td>\n",
       "    </tr>\n",
       "    <tr>\n",
       "      <th>4</th>\n",
       "      <td>1017122</td>\n",
       "      <td>8</td>\n",
       "      <td>10</td>\n",
       "      <td>10</td>\n",
       "      <td>8</td>\n",
       "      <td>7</td>\n",
       "      <td>10</td>\n",
       "      <td>9</td>\n",
       "      <td>7</td>\n",
       "      <td>1</td>\n",
       "      <td>4</td>\n",
       "    </tr>\n",
       "  </tbody>\n",
       "</table>\n",
       "</div>"
      ],
      "text/plain": [
       "   sample_code_number  clump_thickness  uniformity_of_cell_size  \\\n",
       "0             1002945                5                        4   \n",
       "1             1015425                3                        1   \n",
       "2             1016277                6                        8   \n",
       "3             1017023                4                        1   \n",
       "4             1017122                8                       10   \n",
       "\n",
       "   uniformity_of_cell_shape  marginal_adhesion  single_epithelial_cell_size  \\\n",
       "0                         4                  5                            7   \n",
       "1                         1                  1                            2   \n",
       "2                         8                  1                            3   \n",
       "3                         1                  3                            2   \n",
       "4                        10                  8                            7   \n",
       "\n",
       "  bare_nuclei  bland_chromatin  normal_nucleoli  mitosis  classes  \n",
       "0          10                3                2        1        2  \n",
       "1           2                3                1        1        2  \n",
       "2           4                3                7        1        2  \n",
       "3           1                3                1        1        2  \n",
       "4          10                9                7        1        4  "
      ]
     },
     "execution_count": 2,
     "metadata": {},
     "output_type": "execute_result"
    }
   ],
   "source": [
    "data = pd.read_table('breast-cancer-wisconsin.data', delimiter = ',')\n",
    "data.columns = [\"sample_code_number\", \n",
    "                \"clump_thickness\", \n",
    "                \"uniformity_of_cell_size\", \n",
    "                \"uniformity_of_cell_shape\", \n",
    "                \"marginal_adhesion\", \n",
    "                \"single_epithelial_cell_size\", \n",
    "                \"bare_nuclei\", \n",
    "                \"bland_chromatin\", \n",
    "                \"normal_nucleoli\", \n",
    "                \"mitosis\", \n",
    "                \"classes\"]\n",
    "data.head()"
   ]
  },
  {
   "cell_type": "code",
   "execution_count": 3,
   "metadata": {},
   "outputs": [],
   "source": [
    "bm = {2: \"benign\", 4:\"malignant\"}\n",
    "data[\"classes\"] = data[\"classes\"].apply(lambda x : bm[x])"
   ]
  },
  {
   "cell_type": "code",
   "execution_count": 4,
   "metadata": {},
   "outputs": [
    {
     "name": "stderr",
     "output_type": "stream",
     "text": [
      "/home/erol/anaconda3/lib/python3.7/site-packages/pandas/core/ops/__init__.py:1115: FutureWarning: elementwise comparison failed; returning scalar instead, but in the future will perform elementwise comparison\n",
      "  result = method(y)\n"
     ]
    }
   ],
   "source": [
    "data = data[(data != '?').all(axis=1)]\n",
    "data.head()\n",
    "data['bare_nuclei'] = data['bare_nuclei'].astype(int).astype(int)"
   ]
  },
  {
   "cell_type": "code",
   "execution_count": 5,
   "metadata": {},
   "outputs": [
    {
     "data": {
      "text/plain": [
       "sample_code_number              int64\n",
       "clump_thickness                 int64\n",
       "uniformity_of_cell_size         int64\n",
       "uniformity_of_cell_shape        int64\n",
       "marginal_adhesion               int64\n",
       "single_epithelial_cell_size     int64\n",
       "bare_nuclei                     int64\n",
       "bland_chromatin                 int64\n",
       "normal_nucleoli                 int64\n",
       "mitosis                         int64\n",
       "classes                        object\n",
       "dtype: object"
      ]
     },
     "execution_count": 5,
     "metadata": {},
     "output_type": "execute_result"
    }
   ],
   "source": [
    "data.dtypes"
   ]
  },
  {
   "cell_type": "code",
   "execution_count": 6,
   "metadata": {},
   "outputs": [
    {
     "data": {
      "text/plain": [
       "sample_code_number             0\n",
       "clump_thickness                0\n",
       "uniformity_of_cell_size        0\n",
       "uniformity_of_cell_shape       0\n",
       "marginal_adhesion              0\n",
       "single_epithelial_cell_size    0\n",
       "bare_nuclei                    0\n",
       "bland_chromatin                0\n",
       "normal_nucleoli                0\n",
       "mitosis                        0\n",
       "classes                        0\n",
       "dtype: int64"
      ]
     },
     "execution_count": 6,
     "metadata": {},
     "output_type": "execute_result"
    }
   ],
   "source": [
    "data.isna().sum()"
   ]
  },
  {
   "cell_type": "code",
   "execution_count": 7,
   "metadata": {},
   "outputs": [
    {
     "data": {
      "text/plain": [
       "sample_code_number             0\n",
       "clump_thickness                0\n",
       "uniformity_of_cell_size        0\n",
       "uniformity_of_cell_shape       0\n",
       "marginal_adhesion              0\n",
       "single_epithelial_cell_size    0\n",
       "bare_nuclei                    0\n",
       "bland_chromatin                0\n",
       "normal_nucleoli                0\n",
       "mitosis                        0\n",
       "classes                        0\n",
       "dtype: int64"
      ]
     },
     "execution_count": 7,
     "metadata": {},
     "output_type": "execute_result"
    }
   ],
   "source": [
    "data.isnull().sum()"
   ]
  },
  {
   "cell_type": "code",
   "execution_count": 8,
   "metadata": {},
   "outputs": [
    {
     "data": {
      "text/html": [
       "<div>\n",
       "<style scoped>\n",
       "    .dataframe tbody tr th:only-of-type {\n",
       "        vertical-align: middle;\n",
       "    }\n",
       "\n",
       "    .dataframe tbody tr th {\n",
       "        vertical-align: top;\n",
       "    }\n",
       "\n",
       "    .dataframe thead th {\n",
       "        text-align: right;\n",
       "    }\n",
       "</style>\n",
       "<table border=\"1\" class=\"dataframe\">\n",
       "  <thead>\n",
       "    <tr style=\"text-align: right;\">\n",
       "      <th></th>\n",
       "      <th>sample_code_number</th>\n",
       "      <th>clump_thickness</th>\n",
       "      <th>uniformity_of_cell_size</th>\n",
       "      <th>uniformity_of_cell_shape</th>\n",
       "      <th>marginal_adhesion</th>\n",
       "      <th>single_epithelial_cell_size</th>\n",
       "      <th>bare_nuclei</th>\n",
       "      <th>bland_chromatin</th>\n",
       "      <th>normal_nucleoli</th>\n",
       "      <th>mitosis</th>\n",
       "    </tr>\n",
       "  </thead>\n",
       "  <tbody>\n",
       "    <tr>\n",
       "      <th>count</th>\n",
       "      <td>6.820000e+02</td>\n",
       "      <td>682.000000</td>\n",
       "      <td>682.000000</td>\n",
       "      <td>682.000000</td>\n",
       "      <td>682.000000</td>\n",
       "      <td>682.000000</td>\n",
       "      <td>682.000000</td>\n",
       "      <td>682.000000</td>\n",
       "      <td>682.000000</td>\n",
       "      <td>682.000000</td>\n",
       "    </tr>\n",
       "    <tr>\n",
       "      <th>mean</th>\n",
       "      <td>1.076833e+06</td>\n",
       "      <td>4.441349</td>\n",
       "      <td>3.153959</td>\n",
       "      <td>3.218475</td>\n",
       "      <td>2.832845</td>\n",
       "      <td>3.236070</td>\n",
       "      <td>3.548387</td>\n",
       "      <td>3.445748</td>\n",
       "      <td>2.872434</td>\n",
       "      <td>1.604106</td>\n",
       "    </tr>\n",
       "    <tr>\n",
       "      <th>std</th>\n",
       "      <td>6.210926e+05</td>\n",
       "      <td>2.822751</td>\n",
       "      <td>3.066285</td>\n",
       "      <td>2.989568</td>\n",
       "      <td>2.865805</td>\n",
       "      <td>2.224214</td>\n",
       "      <td>3.645226</td>\n",
       "      <td>2.451435</td>\n",
       "      <td>3.054065</td>\n",
       "      <td>1.733792</td>\n",
       "    </tr>\n",
       "    <tr>\n",
       "      <th>min</th>\n",
       "      <td>6.337500e+04</td>\n",
       "      <td>1.000000</td>\n",
       "      <td>1.000000</td>\n",
       "      <td>1.000000</td>\n",
       "      <td>1.000000</td>\n",
       "      <td>1.000000</td>\n",
       "      <td>1.000000</td>\n",
       "      <td>1.000000</td>\n",
       "      <td>1.000000</td>\n",
       "      <td>1.000000</td>\n",
       "    </tr>\n",
       "    <tr>\n",
       "      <th>25%</th>\n",
       "      <td>8.774540e+05</td>\n",
       "      <td>2.000000</td>\n",
       "      <td>1.000000</td>\n",
       "      <td>1.000000</td>\n",
       "      <td>1.000000</td>\n",
       "      <td>2.000000</td>\n",
       "      <td>1.000000</td>\n",
       "      <td>2.000000</td>\n",
       "      <td>1.000000</td>\n",
       "      <td>1.000000</td>\n",
       "    </tr>\n",
       "    <tr>\n",
       "      <th>50%</th>\n",
       "      <td>1.171820e+06</td>\n",
       "      <td>4.000000</td>\n",
       "      <td>1.000000</td>\n",
       "      <td>1.000000</td>\n",
       "      <td>1.000000</td>\n",
       "      <td>2.000000</td>\n",
       "      <td>1.000000</td>\n",
       "      <td>3.000000</td>\n",
       "      <td>1.000000</td>\n",
       "      <td>1.000000</td>\n",
       "    </tr>\n",
       "    <tr>\n",
       "      <th>75%</th>\n",
       "      <td>1.238741e+06</td>\n",
       "      <td>6.000000</td>\n",
       "      <td>5.000000</td>\n",
       "      <td>5.000000</td>\n",
       "      <td>4.000000</td>\n",
       "      <td>4.000000</td>\n",
       "      <td>6.000000</td>\n",
       "      <td>5.000000</td>\n",
       "      <td>4.000000</td>\n",
       "      <td>1.000000</td>\n",
       "    </tr>\n",
       "    <tr>\n",
       "      <th>max</th>\n",
       "      <td>1.345435e+07</td>\n",
       "      <td>10.000000</td>\n",
       "      <td>10.000000</td>\n",
       "      <td>10.000000</td>\n",
       "      <td>10.000000</td>\n",
       "      <td>10.000000</td>\n",
       "      <td>10.000000</td>\n",
       "      <td>10.000000</td>\n",
       "      <td>10.000000</td>\n",
       "      <td>10.000000</td>\n",
       "    </tr>\n",
       "  </tbody>\n",
       "</table>\n",
       "</div>"
      ],
      "text/plain": [
       "       sample_code_number  clump_thickness  uniformity_of_cell_size  \\\n",
       "count        6.820000e+02       682.000000               682.000000   \n",
       "mean         1.076833e+06         4.441349                 3.153959   \n",
       "std          6.210926e+05         2.822751                 3.066285   \n",
       "min          6.337500e+04         1.000000                 1.000000   \n",
       "25%          8.774540e+05         2.000000                 1.000000   \n",
       "50%          1.171820e+06         4.000000                 1.000000   \n",
       "75%          1.238741e+06         6.000000                 5.000000   \n",
       "max          1.345435e+07        10.000000                10.000000   \n",
       "\n",
       "       uniformity_of_cell_shape  marginal_adhesion  \\\n",
       "count                682.000000         682.000000   \n",
       "mean                   3.218475           2.832845   \n",
       "std                    2.989568           2.865805   \n",
       "min                    1.000000           1.000000   \n",
       "25%                    1.000000           1.000000   \n",
       "50%                    1.000000           1.000000   \n",
       "75%                    5.000000           4.000000   \n",
       "max                   10.000000          10.000000   \n",
       "\n",
       "       single_epithelial_cell_size  bare_nuclei  bland_chromatin  \\\n",
       "count                   682.000000   682.000000       682.000000   \n",
       "mean                      3.236070     3.548387         3.445748   \n",
       "std                       2.224214     3.645226         2.451435   \n",
       "min                       1.000000     1.000000         1.000000   \n",
       "25%                       2.000000     1.000000         2.000000   \n",
       "50%                       2.000000     1.000000         3.000000   \n",
       "75%                       4.000000     6.000000         5.000000   \n",
       "max                      10.000000    10.000000        10.000000   \n",
       "\n",
       "       normal_nucleoli     mitosis  \n",
       "count       682.000000  682.000000  \n",
       "mean          2.872434    1.604106  \n",
       "std           3.054065    1.733792  \n",
       "min           1.000000    1.000000  \n",
       "25%           1.000000    1.000000  \n",
       "50%           1.000000    1.000000  \n",
       "75%           4.000000    1.000000  \n",
       "max          10.000000   10.000000  "
      ]
     },
     "execution_count": 8,
     "metadata": {},
     "output_type": "execute_result"
    }
   ],
   "source": [
    "data.describe()"
   ]
  },
  {
   "cell_type": "code",
   "execution_count": 9,
   "metadata": {},
   "outputs": [
    {
     "data": {
      "text/plain": [
       "<matplotlib.axes._subplots.AxesSubplot at 0x7f63507d7090>"
      ]
     },
     "execution_count": 9,
     "metadata": {},
     "output_type": "execute_result"
    },
    {
     "data": {
      "image/png": "[encoded data removed]",
      "text/plain": [
       "<Figure size 720x720 with 1 Axes>"
      ]
     },
     "metadata": {
      "needs_background": "light"
     },
     "output_type": "display_data"
    }
   ],
   "source": [
    "plt.figure(figsize = (10,10))\n",
    "sns.countplot(data.classes)"
   ]
  },
  {
   "cell_type": "code",
   "execution_count": 10,
   "metadata": {},
   "outputs": [
    {
     "data": {
      "text/plain": [
       "<matplotlib.axes._subplots.AxesSubplot at 0x7f634df9c390>"
      ]
     },
     "execution_count": 10,
     "metadata": {},
     "output_type": "execute_result"
    },
    {
     "data": {
      "image/png": "[encoded data removed]",
      "text/plain": [
       "<Figure size 720x720 with 1 Axes>"
      ]
     },
     "metadata": {
      "needs_background": "light"
     },
     "output_type": "display_data"
    }
   ],
   "source": [
    "plt.figure(figsize = (10,10))\n",
    "sns.countplot(data.clump_thickness)"
   ]
  },
  {
   "cell_type": "markdown",
   "metadata": {},
   "source": [
    "# Linear Regression"
   ]
  },
  {
   "cell_type": "code",
   "execution_count": 11,
   "metadata": {},
   "outputs": [
    {
     "name": "stdout",
     "output_type": "stream",
     "text": [
      "[0 0 0 0 1 0 0 0 0 0 0 1 0 1 1 0 0 1 0 1 1 0 0 1 0 0 0 0 0 0 1 0 0 0 1 0 1\n",
      " 1 1 1 1 1 0 1 0 0 1 1 1 1 1 1 1 1 1 1 1 1 0 1 1 0 1 0 1 1 0 0 1 0 1 1 0 0\n",
      " 0 0 0 0 0 0 0 1 1 1 1 0 0 0 0 0 0 0 0 0 0 1 1 1 1 0 1 1 1 1 1 0 1 0 1 1 1\n",
      " 0 0 0 1 0 0 0 0 1 1 1 0 1 0 1 0 0 0 1 0 0 0 0 0 0 0 0 1 0 0 1 0 0 1 0 1 1\n",
      " 0 0 1 0 0 1 1 0 0 0 0 1 1 0 0 0 0 0 1 1 1 0 1 0 1 0 0 0 1 1 0 1 1 1 0 1 1\n",
      " 0 0 0 0 0 0 0 0 1 1 0 0 0 1 1 0 0 0 1 1 0 1 1 1 0 0 1 0 0 1 1 1 1 0 1 1 0\n",
      " 1 1 1 0 1 0 1 1 1 1 0 0 0 0 0 0 1 1 0 0 1 0 1 1 1 0 0 0 0 1 1 1 1 1 0 1 1\n",
      " 1 0 1 0 1 1 0 0 0 0 1 0 0 1 1 1 1 1 0 1 1 0 0 1 1 0 0 1 1 0 1 0 1 1 0 0 1\n",
      " 0 0 0 1 0 0 1 1 0 0 1 0 1 0 0 1 0 1 1 1 0 0 1 1 0 1 0 0 1 1 0 0 0 1 0 0 0\n",
      " 1 1 0 0 0 1 0 0 1 1 1 1 1 1 0 0 0 0 1 1 0 0 0 0 0 0 0 0 0 0 0 0 0 1 0 0 0\n",
      " 0 1 0 0 0 0 1 0 0 0 0 0 0 0 0 1 0 0 0 0 0 0 0 0 0 0 1 0 1 0 1 0 0 0 0 1 0\n",
      " 0 0 1 0 1 0 0 0 0 0 0 0 1 1 0 0 0 1 0 0 0 0 0 0 0 0 1 0 0 0 1 0 1 1 1 0 0\n",
      " 0 0 0 0 0 1 1 1 0 0 0 0 0 0 0 0 0 0 0 1 0 0 1 1 0 0 0 1 1 1 0 1 0 1 0 0 0\n",
      " 0 0 0 0 0 0 0 0 0 1 0 0 0 0 0 0 0 1 1 0 0 0 1 0 0 1 1 0 0 0 0 0 0 1 0 0 0\n",
      " 0 0 0 0 0 0 0 0 0 0 0 0 1 0 0 1 0 0 0 0 0 0 0 0 0 0 0 0 0 0 0 1 0 0 1 1 1\n",
      " 1 0 0 1 0 0 0 0 0 0 1 1 0 0 0 1 0 1 0 1 1 1 0 1 0 0 0 0 0 0 0 0 1 1 1 0 0\n",
      " 1 0 1 1 1 0 0 0 0 0 0 0 0 0 0 0 0 1 0 0 0 0 0 0 1 0 0 1 0 0 0 0 0 0 0 0 0\n",
      " 0 0 1 0 0 0 0 0 0 0 0 0 1 0 0 0 0 0 0 0 0 0 1 1 1 0 0 0 0 0 0 0 0 0 1 1 0\n",
      " 0 0 0 0 0 0 0 0 1 0 0 0 0 1 1 1]\n"
     ]
    }
   ],
   "source": [
    "from sklearn.preprocessing import LabelEncoder\n",
    "\n",
    "encode = LabelEncoder()\n",
    "data.iloc[:,-1] = encode.fit_transform(data.iloc[:,-1].values)\n",
    "print(encode.fit_transform(data.iloc[:,-1].values))"
   ]
  },
  {
   "cell_type": "code",
   "execution_count": 12,
   "metadata": {},
   "outputs": [],
   "source": [
    "from sklearn.model_selection import train_test_split\n",
    "\n",
    "y = data.classes.values\n",
    "X = data.drop(['sample_code_number', 'classes'], axis = 1).values\n",
    "X_train, X_test, y_train, y_test = train_test_split(X, y,\n",
    "                                                    test_size = 0.30,\n",
    "                                                    random_state = 0)\n",
    "\n"
   ]
  },
  {
   "cell_type": "code",
   "execution_count": 13,
   "metadata": {},
   "outputs": [
    {
     "data": {
      "text/plain": [
       "LinearRegression(copy_X=True, fit_intercept=True, n_jobs=None, normalize=False)"
      ]
     },
     "execution_count": 13,
     "metadata": {},
     "output_type": "execute_result"
    }
   ],
   "source": [
    "from sklearn.linear_model import LinearRegression\n",
    "\n",
    "regressor = LinearRegression()\n",
    "regressor.fit(X_train, y_train)"
   ]
  },
  {
   "cell_type": "code",
   "execution_count": 14,
   "metadata": {},
   "outputs": [
    {
     "data": {
      "text/plain": [
       "array([ 3.28194647e-01, -6.89594769e-02,  1.00695464e+00, -5.98026434e-02,\n",
       "       -5.40503915e-02,  9.74829243e-01,  1.27444321e-01,  8.12892831e-02,\n",
       "        1.08432564e-02,  7.48541223e-01,  3.98248974e-01,  3.03307585e-02,\n",
       "        9.74960900e-01, -1.70251508e-02, -6.43810601e-02,  1.12763318e+00,\n",
       "        1.17402037e+00,  9.46546811e-01, -6.43810601e-02,  6.76995744e-01,\n",
       "        1.11930307e+00,  1.12806146e-01,  3.66322307e-03,  2.43940926e-01,\n",
       "        8.04959499e-01,  3.29594118e-02,  4.78684971e-02,  6.54502368e-02,\n",
       "        1.08432564e-02,  8.46820324e-03, -6.43810601e-02,  6.54062358e-02,\n",
       "        1.06208247e+00,  7.10076086e-01,  3.29594118e-02, -5.83752082e-02,\n",
       "        6.27775825e-02,  9.16087901e-01, -3.28808478e-02, -4.94719748e-02,\n",
       "       -1.24467340e-02, -3.45628894e-02,  1.54216732e-02,  7.76711022e-01,\n",
       "        3.56760671e-02,  5.36477856e-02,  9.64962945e-01,  8.89623528e-01,\n",
       "       -1.70251508e-02,  9.42592051e-01, -3.91413062e-02, -4.94719748e-02,\n",
       "        7.95952480e-01,  8.63211730e-02,  5.12587821e-04,  1.61345616e-01,\n",
       "        7.60296193e-01,  7.88875396e-02,  1.69644934e-02,  6.99509686e-01,\n",
       "       -4.94719748e-02,  1.37815081e-01,  1.89482406e-01,  1.22905996e-01,\n",
       "        5.50694298e-02,  3.03307585e-02, -3.19342361e-02,  8.46820324e-03,\n",
       "        5.66761396e-01,  3.97175051e-01, -3.28808478e-02, -4.94719748e-02,\n",
       "       -3.45628894e-02,  1.48913648e-01, -3.15049686e-02,  8.09369915e-01,\n",
       "        7.46511625e-01,  3.29594118e-02,  1.54216732e-02,  7.27096355e-01,\n",
       "        3.95548824e-01,  1.62292888e-01,  7.09785098e-01,  8.70490479e-02,\n",
       "        1.27671230e-01,  8.10315493e-01,  4.32900804e-02,  1.94063698e-01,\n",
       "        1.13822716e+00, -6.43810601e-02,  1.27671230e-01, -6.89594769e-02,\n",
       "        9.79462524e-02,  6.31131267e-01,  7.71143668e-01,  9.80748702e-01,\n",
       "        4.32900804e-02,  3.39046290e-01,  1.09102432e+00, -3.45628894e-02,\n",
       "        1.28872102e-01,  1.14794731e+00,  9.43034959e-01,  6.43668802e-01,\n",
       "        9.79215864e-01, -1.58242790e-02, -4.94719748e-02,  1.10474959e+00,\n",
       "        1.19021597e-01, -6.43810601e-02,  1.54216732e-02,  5.16866659e-02,\n",
       "        3.03307585e-02,  7.20992235e-01, -1.70251508e-02,  1.20494040e-01,\n",
       "        9.90425752e-02,  6.53627147e-01,  2.09987423e-01, -3.19342361e-02,\n",
       "        8.39461199e-02,  9.01681930e-01, -4.94719748e-02,  4.56790277e-01,\n",
       "        1.07310462e+00,  1.12897358e+00, -1.70251508e-02,  1.56413853e-01,\n",
       "        9.52244065e-02,  9.13014089e-01,  1.13497575e-01,  1.54216732e-02,\n",
       "        1.54216732e-02,  1.08432564e-02,  7.04217450e-01, -6.89594769e-02,\n",
       "        8.71147258e-02, -4.94719748e-02,  9.06459897e-02,  6.43668802e-01,\n",
       "       -4.94719748e-02,  9.21589205e-01,  9.38986184e-01,  6.55226393e-01,\n",
       "        6.54062358e-02,  1.01603310e+00,  8.65554239e-01, -1.70251508e-02,\n",
       "        9.87123227e-01, -3.45628894e-02,  7.19592086e-01,  1.15340842e+00,\n",
       "        5.62600900e-01,  8.81781333e-01,  5.05411514e-02,  4.78684971e-02,\n",
       "        5.12587821e-04,  8.15048366e-02,  3.75378285e-02,  7.89766948e-01,\n",
       "        1.54216732e-02,  9.10330808e-01,  8.19973627e-02,  6.25506728e-02,\n",
       "        3.03307585e-02,  8.27327925e-02,  9.85884896e-02,  9.95240256e-01,\n",
       "        1.43799710e-01,  5.84527658e-02, -3.45628894e-02,  1.54216732e-02,\n",
       "       -1.58356353e-02,  9.90425752e-02,  5.37041726e-01,  1.04201520e-01,\n",
       "       -6.43810601e-02,  5.12587821e-04,  1.54216732e-02,  8.03153211e-02,\n",
       "        7.19098537e-01,  4.78684971e-02,  4.69208792e-02,  2.58685742e-01,\n",
       "        1.44750615e-02, -3.45628894e-02,  5.69560311e-01,  1.81383285e-02,\n",
       "       -3.45628894e-02, -5.40503915e-02,  3.03307585e-02,  5.02859686e-02,\n",
       "        6.27775825e-02,  1.32361268e+00,  1.54216732e-02, -2.08681377e-02,\n",
       "       -4.94719748e-02, -6.43810601e-02,  7.08254041e-01,  1.28916103e-01,\n",
       "        1.11815533e-01, -1.62897209e-02,  8.41196821e-01,  1.09778711e+00,\n",
       "       -3.45628894e-02])"
      ]
     },
     "execution_count": 14,
     "metadata": {},
     "output_type": "execute_result"
    }
   ],
   "source": [
    "y_pred = regressor.predict(X_test)\n",
    "y_pred"
   ]
  },
  {
   "cell_type": "code",
   "execution_count": 15,
   "metadata": {},
   "outputs": [
    {
     "data": {
      "text/html": [
       "<div>\n",
       "<style scoped>\n",
       "    .dataframe tbody tr th:only-of-type {\n",
       "        vertical-align: middle;\n",
       "    }\n",
       "\n",
       "    .dataframe tbody tr th {\n",
       "        vertical-align: top;\n",
       "    }\n",
       "\n",
       "    .dataframe thead th {\n",
       "        text-align: right;\n",
       "    }\n",
       "</style>\n",
       "<table border=\"1\" class=\"dataframe\">\n",
       "  <thead>\n",
       "    <tr style=\"text-align: right;\">\n",
       "      <th></th>\n",
       "      <th>Actual</th>\n",
       "      <th>Predicted</th>\n",
       "    </tr>\n",
       "  </thead>\n",
       "  <tbody>\n",
       "    <tr>\n",
       "      <th>0</th>\n",
       "      <td>0</td>\n",
       "      <td>0.328195</td>\n",
       "    </tr>\n",
       "    <tr>\n",
       "      <th>1</th>\n",
       "      <td>0</td>\n",
       "      <td>-0.068959</td>\n",
       "    </tr>\n",
       "    <tr>\n",
       "      <th>2</th>\n",
       "      <td>1</td>\n",
       "      <td>1.006955</td>\n",
       "    </tr>\n",
       "    <tr>\n",
       "      <th>3</th>\n",
       "      <td>0</td>\n",
       "      <td>-0.059803</td>\n",
       "    </tr>\n",
       "    <tr>\n",
       "      <th>4</th>\n",
       "      <td>0</td>\n",
       "      <td>-0.054050</td>\n",
       "    </tr>\n",
       "  </tbody>\n",
       "</table>\n",
       "</div>"
      ],
      "text/plain": [
       "   Actual  Predicted\n",
       "0       0   0.328195\n",
       "1       0  -0.068959\n",
       "2       1   1.006955\n",
       "3       0  -0.059803\n",
       "4       0  -0.054050"
      ]
     },
     "execution_count": 15,
     "metadata": {},
     "output_type": "execute_result"
    }
   ],
   "source": [
    "df_output = pd.DataFrame({'Actual': y_test, 'Predicted':y_pred})\n",
    "df_output.head()"
   ]
  },
  {
   "cell_type": "code",
   "execution_count": 16,
   "metadata": {},
   "outputs": [
    {
     "name": "stdout",
     "output_type": "stream",
     "text": [
      "Rsquared score:  84.17051962941888\n"
     ]
    }
   ],
   "source": [
    "from sklearn.metrics import r2_score, confusion_matrix\n",
    "print('Rsquared score: ', (r2_score(y_test, y_pred)*100))"
   ]
  },
  {
   "cell_type": "markdown",
   "metadata": {},
   "source": [
    "# Logistic Regression"
   ]
  },
  {
   "cell_type": "code",
   "execution_count": 17,
   "metadata": {},
   "outputs": [
    {
     "data": {
      "text/plain": [
       "LogisticRegression(C=1.0, class_weight=None, dual=False, fit_intercept=True,\n",
       "                   intercept_scaling=1, l1_ratio=None, max_iter=100,\n",
       "                   multi_class='auto', n_jobs=None, penalty='l2',\n",
       "                   random_state=None, solver='lbfgs', tol=0.0001, verbose=0,\n",
       "                   warm_start=False)"
      ]
     },
     "execution_count": 17,
     "metadata": {},
     "output_type": "execute_result"
    }
   ],
   "source": [
    "from sklearn.linear_model import LogisticRegression\n",
    "\n",
    "logi = LogisticRegression()\n",
    "logi.fit(X_train, y_train)"
   ]
  },
  {
   "cell_type": "code",
   "execution_count": 18,
   "metadata": {},
   "outputs": [
    {
     "name": "stdout",
     "output_type": "stream",
     "text": [
      "[0 0 1 0 0 1 0 0 0 1 1 0 1 0 0 1 1 1 0 1 1 0 0 0 1 0 0 0 0 0 0 0 1 1 0 0 0\n",
      " 1 0 0 0 0 0 1 0 0 1 1 0 1 0 0 1 0 0 0 1 0 0 1 0 0 0 0 0 0 0 0 1 0 0 0 0 0\n",
      " 0 1 1 0 0 1 1 0 1 0 0 1 0 0 1 0 0 0 0 1 1 1 0 0 1 0 0 1 1 1 1 0 0 1 0 0 0\n",
      " 0 0 1 0 0 0 1 0 0 0 1 0 1 1 1 0 0 0 1 0 0 0 0 1 0 0 0 0 1 0 1 1 1 0 1 1 0\n",
      " 1 0 1 1 1 1 0 0 0 0 0 1 0 1 0 0 0 0 0 1 0 0 0 0 0 0 1 0 0 0 0 0 1 0 0 0 0\n",
      " 0 1 0 0 0 0 0 0 1 0 0 0 0 1 0 0 0 1 1 0]\n"
     ]
    }
   ],
   "source": [
    "y_pred2 = logi.predict(X_test)\n",
    "print(y_pred2)"
   ]
  },
  {
   "cell_type": "code",
   "execution_count": 19,
   "metadata": {},
   "outputs": [
    {
     "data": {
      "text/html": [
       "<div>\n",
       "<style scoped>\n",
       "    .dataframe tbody tr th:only-of-type {\n",
       "        vertical-align: middle;\n",
       "    }\n",
       "\n",
       "    .dataframe tbody tr th {\n",
       "        vertical-align: top;\n",
       "    }\n",
       "\n",
       "    .dataframe thead th {\n",
       "        text-align: right;\n",
       "    }\n",
       "</style>\n",
       "<table border=\"1\" class=\"dataframe\">\n",
       "  <thead>\n",
       "    <tr style=\"text-align: right;\">\n",
       "      <th></th>\n",
       "      <th>Actual</th>\n",
       "      <th>Prediction</th>\n",
       "    </tr>\n",
       "  </thead>\n",
       "  <tbody>\n",
       "    <tr>\n",
       "      <th>0</th>\n",
       "      <td>0</td>\n",
       "      <td>0</td>\n",
       "    </tr>\n",
       "    <tr>\n",
       "      <th>1</th>\n",
       "      <td>0</td>\n",
       "      <td>0</td>\n",
       "    </tr>\n",
       "    <tr>\n",
       "      <th>2</th>\n",
       "      <td>1</td>\n",
       "      <td>1</td>\n",
       "    </tr>\n",
       "    <tr>\n",
       "      <th>3</th>\n",
       "      <td>0</td>\n",
       "      <td>0</td>\n",
       "    </tr>\n",
       "    <tr>\n",
       "      <th>4</th>\n",
       "      <td>0</td>\n",
       "      <td>0</td>\n",
       "    </tr>\n",
       "  </tbody>\n",
       "</table>\n",
       "</div>"
      ],
      "text/plain": [
       "   Actual  Prediction\n",
       "0       0           0\n",
       "1       0           0\n",
       "2       1           1\n",
       "3       0           0\n",
       "4       0           0"
      ]
     },
     "execution_count": 19,
     "metadata": {},
     "output_type": "execute_result"
    }
   ],
   "source": [
    "df = pd.DataFrame({'Actual': y_test, 'Prediction':y_pred2})\n",
    "df.head()"
   ]
  },
  {
   "cell_type": "code",
   "execution_count": 20,
   "metadata": {},
   "outputs": [
    {
     "name": "stdout",
     "output_type": "stream",
     "text": [
      "Rsquared score:  86.69695003244647\n"
     ]
    }
   ],
   "source": [
    "print('Rsquared score: ', (r2_score(y_test,y_pred2)*100))"
   ]
  },
  {
   "cell_type": "code",
   "execution_count": 21,
   "metadata": {},
   "outputs": [
    {
     "data": {
      "image/png": "[encoded data removed]",
      "text/plain": [
       "<Figure size 864x432 with 1 Axes>"
      ]
     },
     "metadata": {
      "needs_background": "light"
     },
     "output_type": "display_data"
    }
   ],
   "source": [
    "breast_cancer_features = [x for i,x in enumerate(data.columns) if i!=8]\n",
    " \n",
    "plt.figure(figsize=(12,6))\n",
    "plt.plot(logi.coef_.T, 'o', label=\"LogisticRegression\")\n",
    "plt.xticks(range(data.shape[1]), breast_cancer_features, rotation=90)\n",
    "plt.hlines(0, 0, data.shape[1])\n",
    "plt.ylim(-3, 3)\n",
    "plt.title('Logistic Regression')\n",
    "plt.xlabel(\"Feature\")\n",
    "plt.ylabel(\"Coefficient Magnitude\")\n",
    "plt.legend()\n",
    "plt.show()"
   ]
  },
  {
   "cell_type": "markdown",
   "metadata": {},
   "source": [
    "# Random Forest"
   ]
  },
  {
   "cell_type": "code",
   "execution_count": 35,
   "metadata": {},
   "outputs": [],
   "source": [
    "from sklearn.ensemble import RandomForestClassifier\n",
    "from sklearn.metrics import accuracy_score, confusion_matrix"
   ]
  },
  {
   "cell_type": "code",
   "execution_count": 23,
   "metadata": {},
   "outputs": [
    {
     "data": {
      "text/plain": [
       "RandomForestClassifier(bootstrap=True, ccp_alpha=0.0, class_weight=None,\n",
       "                       criterion='gini', max_depth=5, max_features='auto',\n",
       "                       max_leaf_nodes=None, max_samples=None,\n",
       "                       min_impurity_decrease=0.0, min_impurity_split=None,\n",
       "                       min_samples_leaf=1, min_samples_split=2,\n",
       "                       min_weight_fraction_leaf=0.0, n_estimators=100,\n",
       "                       n_jobs=None, oob_score=False, random_state=None,\n",
       "                       verbose=0, warm_start=False)"
      ]
     },
     "execution_count": 23,
     "metadata": {},
     "output_type": "execute_result"
    }
   ],
   "source": [
    "rf = RandomForestClassifier(max_depth = 5)\n",
    "rf.fit(X_train, y_train)"
   ]
  },
  {
   "cell_type": "code",
   "execution_count": 24,
   "metadata": {},
   "outputs": [
    {
     "data": {
      "text/plain": [
       "array([0, 0, 1, 0, 0, 1, 0, 0, 0, 1, 1, 0, 1, 0, 0, 1, 1, 1, 0, 1, 1, 0,\n",
       "       0, 0, 1, 0, 0, 0, 0, 0, 0, 0, 1, 1, 0, 0, 0, 1, 0, 0, 0, 0, 0, 1,\n",
       "       0, 0, 1, 1, 0, 1, 0, 0, 1, 0, 0, 0, 1, 0, 0, 1, 0, 0, 0, 0, 0, 0,\n",
       "       0, 0, 1, 1, 0, 0, 0, 0, 0, 1, 1, 0, 0, 1, 0, 0, 1, 0, 0, 1, 0, 0,\n",
       "       1, 0, 0, 0, 0, 1, 1, 1, 0, 1, 1, 0, 0, 1, 1, 1, 1, 0, 0, 1, 0, 0,\n",
       "       0, 0, 0, 1, 0, 0, 0, 1, 0, 0, 0, 1, 0, 1, 1, 1, 0, 0, 0, 1, 0, 0,\n",
       "       0, 0, 1, 0, 0, 0, 0, 1, 0, 1, 1, 1, 0, 1, 1, 0, 1, 0, 1, 1, 1, 1,\n",
       "       0, 0, 0, 0, 0, 1, 0, 1, 0, 0, 0, 0, 0, 1, 0, 0, 0, 0, 0, 0, 1, 0,\n",
       "       0, 0, 0, 0, 1, 0, 0, 0, 0, 0, 1, 0, 0, 0, 0, 0, 0, 1, 0, 0, 0, 0,\n",
       "       1, 0, 0, 0, 1, 1, 0])"
      ]
     },
     "execution_count": 24,
     "metadata": {},
     "output_type": "execute_result"
    }
   ],
   "source": [
    "y_pred2 = rf.predict(X_test)\n",
    "y_pred2"
   ]
  },
  {
   "cell_type": "code",
   "execution_count": 25,
   "metadata": {},
   "outputs": [
    {
     "name": "stdout",
     "output_type": "stream",
     "text": [
      "Breast Cancer Feature Importances: \n",
      " [0.06715534 0.23149992 0.21395661 0.02029788 0.05943461 0.27261624\n",
      " 0.08056502 0.04866013 0.00581424] \n"
     ]
    }
   ],
   "source": [
    "print(f\"Breast Cancer Feature Importances: \\n {format(rf.feature_importances_)} \")"
   ]
  },
  {
   "cell_type": "code",
   "execution_count": 26,
   "metadata": {},
   "outputs": [
    {
     "data": {
      "text/html": [
       "<div>\n",
       "<style scoped>\n",
       "    .dataframe tbody tr th:only-of-type {\n",
       "        vertical-align: middle;\n",
       "    }\n",
       "\n",
       "    .dataframe tbody tr th {\n",
       "        vertical-align: top;\n",
       "    }\n",
       "\n",
       "    .dataframe thead th {\n",
       "        text-align: right;\n",
       "    }\n",
       "</style>\n",
       "<table border=\"1\" class=\"dataframe\">\n",
       "  <thead>\n",
       "    <tr style=\"text-align: right;\">\n",
       "      <th></th>\n",
       "      <th>Actual</th>\n",
       "      <th>Predicted</th>\n",
       "    </tr>\n",
       "  </thead>\n",
       "  <tbody>\n",
       "    <tr>\n",
       "      <th>0</th>\n",
       "      <td>0</td>\n",
       "      <td>0</td>\n",
       "    </tr>\n",
       "    <tr>\n",
       "      <th>1</th>\n",
       "      <td>0</td>\n",
       "      <td>0</td>\n",
       "    </tr>\n",
       "    <tr>\n",
       "      <th>2</th>\n",
       "      <td>1</td>\n",
       "      <td>1</td>\n",
       "    </tr>\n",
       "    <tr>\n",
       "      <th>3</th>\n",
       "      <td>0</td>\n",
       "      <td>0</td>\n",
       "    </tr>\n",
       "    <tr>\n",
       "      <th>4</th>\n",
       "      <td>0</td>\n",
       "      <td>0</td>\n",
       "    </tr>\n",
       "  </tbody>\n",
       "</table>\n",
       "</div>"
      ],
      "text/plain": [
       "   Actual  Predicted\n",
       "0       0          0\n",
       "1       0          0\n",
       "2       1          1\n",
       "3       0          0\n",
       "4       0          0"
      ]
     },
     "execution_count": 26,
     "metadata": {},
     "output_type": "execute_result"
    }
   ],
   "source": [
    "df_rf = pd.DataFrame({'Actual':y_test, 'Predicted':y_pred2})\n",
    "df_rf.head()"
   ]
  },
  {
   "cell_type": "code",
   "execution_count": 27,
   "metadata": {},
   "outputs": [
    {
     "name": "stdout",
     "output_type": "stream",
     "text": [
      "Accuracy score:  98.53658536585365\n"
     ]
    }
   ],
   "source": [
    "print('Accuracy score: ', (accuracy_score(y_test, y_pred2)*100))"
   ]
  },
  {
   "cell_type": "code",
   "execution_count": 34,
   "metadata": {},
   "outputs": [
    {
     "data": {
      "image/png": "[encoded data removed]",
      "text/plain": [
       "<Figure size 468x324 with 1 Axes>"
      ]
     },
     "metadata": {
      "needs_background": "light"
     },
     "output_type": "display_data"
    },
    {
     "data": {
      "text/plain": [
       "<Figure size 360x360 with 0 Axes>"
      ]
     },
     "metadata": {},
     "output_type": "display_data"
    }
   ],
   "source": [
    "col = [\"clump_thickness\", \"uniformity_of_cell_size\", \"uniformity_of_cell_shape\", \"marginal_adhesion\", \"single_epithelial_cell_size\", \n",
    "       \"bare_nuclei\", \"bland_chromatin\", \"normal_nucleoli\", \"mitosis\"]\n",
    "\n",
    "y = rf.feature_importances_\n",
    "\n",
    "fig, ax = plt.subplots()\n",
    "width = 0.4 # the width of the bars \n",
    "ind = np.arange(len(y)) # the x locations for the groups\n",
    "ax.barh(ind, y, width, color=\"green\")\n",
    "ax.set_yticks(ind+width/10)\n",
    "ax.set_yticklabels(col, minor=False)\n",
    "plt.title(\"Feature importance in Random Forest Classifier\")\n",
    "plt.xlabel(\"Relative importance\")\n",
    "plt.ylabel(\"feature\") \n",
    "plt.figure(figsize=(5,5))\n",
    "fig.set_size_inches(6.5, 4.5, forward=True)"
   ]
  },
  {
   "cell_type": "code",
   "execution_count": 38,
   "metadata": {},
   "outputs": [
    {
     "data": {
      "text/plain": [
       "array([[136,   2],\n",
       "       [  1,  66]])"
      ]
     },
     "execution_count": 38,
     "metadata": {},
     "output_type": "execute_result"
    }
   ],
   "source": [
    "cm = confusion_matrix(y_test, y_pred2)\n",
    "cm"
   ]
  },
  {
   "cell_type": "code",
   "execution_count": 40,
   "metadata": {},
   "outputs": [
    {
     "name": "stdout",
     "output_type": "stream",
     "text": [
      "           Benign  Malignant\n",
      "Benign        136          2\n",
      "Malignant       1         66\n"
     ]
    }
   ],
   "source": [
    "matrix = pd.DataFrame(np.array(cm), columns = ['Benign', 'Malignant'],\n",
    "                     index = ['Benign', 'Malignant'])\n",
    "print(matrix)"
   ]
  },
  {
   "cell_type": "code",
   "execution_count": 59,
   "metadata": {},
   "outputs": [
    {
     "data": {
      "text/plain": [
       "<matplotlib.axes._subplots.AxesSubplot at 0x7f634c126210>"
      ]
     },
     "execution_count": 59,
     "metadata": {},
     "output_type": "execute_result"
    },
    {
     "data": {
      "image/png": "[encoded data removed]",
      "text/plain": [
       "<Figure size 432x288 with 2 Axes>"
      ]
     },
     "metadata": {
      "needs_background": "light"
     },
     "output_type": "display_data"
    }
   ],
   "source": [
    "sns.heatmap(matrix, annot = True, annot_kws = {'size':16}, fmt = 'g', cmap = 'Blues')"
   ]
  },
  {
   "cell_type": "code",
   "execution_count": null,
   "metadata": {},
   "outputs": [],
   "source": []
  }
 ],
 "metadata": {
  "kernelspec": {
   "display_name": "Python 3",
   "language": "python",
   "name": "python3"
  },
  "language_info": {
   "codemirror_mode": {
    "name": "ipython",
    "version": 3
   },
   "file_extension": ".py",
   "mimetype": "text/x-python",
   "name": "python",
   "nbconvert_exporter": "python",
   "pygments_lexer": "ipython3",
   "version": "3.7.5"
  }
 },
 "nbformat": 4,
 "nbformat_minor": 2
}
